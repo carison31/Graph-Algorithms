{
  "nbformat": 4,
  "nbformat_minor": 0,
  "metadata": {
    "colab": {
      "provenance": []
    },
    "kernelspec": {
      "name": "python3",
      "display_name": "Python 3"
    },
    "language_info": {
      "name": "python"
    }
  },
  "cells": [
    {
      "cell_type": "code",
      "source": [
        "import networkx as nx\n",
        "import matplotlib.pyplot as plt\n",
        "\n",
        "# Построим граф - кварто-квинтовый круг, по которому можно двигаться только по одному шагу\n",
        "# При таком движении смена тональностей происходит наиболее незаметно (менятеся только один знак при ключе)\n",
        "# Определяем вершины (тональности) и рёбра (переходы на кварту, квинту, в параллельные миноры)\n",
        "notes_maj = [\"C\", \"C#\", \"D\", \"D#\", \"E\", \"F\", \"F#\", \"G\", \"G#\", \"A\", \"A#\", \"B\"]\n",
        "notes_min = [\"Cm\", \"C#m\", \"Dm\", \"D#m\", \"Em\", \"Fm\", \"F#m\", \"Gm\", \"G#m\", \"Am\", \"A#m\", \"Bm\"]\n",
        "keys = notes_maj + notes_min\n",
        "\n",
        "# Создаём словари для четвёртых, пятых ступеней и параллельных тональностей\n",
        "fourth = {keys[i]: keys[(i + 5) % 12] if i < 12 else keys[(i + 5) % 12 + 12] for i in range(24)}\n",
        "fifth = {keys[i]: keys[(i + 7) % 12] if i < 12 else keys[(i + 7) % 12 + 12] for i in range(24)}\n",
        "parallel = {keys[i]: keys[(i + 9) % 12 + 12] if i < 12 else keys[(i - 9) % 12] for i in range(24)}\n",
        "\n",
        "# Создаём граф и добавляем узлы\n",
        "G = nx.DiGraph()\n",
        "G.add_nodes_from(keys)\n",
        "\n",
        "# Создаём графовые рёбра для каждой тональности\n",
        "for i in range(24):\n",
        "    G.add_edge(keys[i], keys[i], quality='root'),\n",
        "    G.add_edge(keys[i], fourth[keys[i]], quality='fourth'),\n",
        "    G.add_edge(keys[i], fifth[keys[i]], quality='fifth'),\n",
        "    G.add_edge(keys[i], parallel[fifth[keys[i]]], quality='fifth_par'),\n",
        "    G.add_edge(keys[i], parallel[fourth[keys[i]]], quality='fourth_par'),\n",
        "    G.add_edge(keys[i], parallel[keys[i]], quality='par')"
      ],
      "metadata": {
        "id": "3V8UoVwfHnSC"
      },
      "execution_count": 54,
      "outputs": []
    },
    {
      "cell_type": "code",
      "source": [
        "import random\n",
        "\n",
        "\n",
        "# Указываем текущую тональность (компоненту связности), и рандомим следующую тональность\n",
        "def in_key(cur_key):\n",
        "    if cur_key not in keys:\n",
        "        print('ERROR: There`s no key named this way')\n",
        "    else:\n",
        "        in_key = {v['quality']: k for k, v in G[cur_key].items()}\n",
        "\n",
        "    return in_key\n",
        "\n",
        "def change_key(cur_key):\n",
        "    in_key_chords = in_key(cur_key)\n",
        "    chng_key = random.choice(list(in_key_chords.values())[1:])\n",
        "    return chng_key"
      ],
      "metadata": {
        "colab": {
          "base_uri": "https://localhost:8080/",
          "height": 35
        },
        "id": "dWub_btc7Jj2",
        "outputId": "48a56033-ed7d-4fcd-9e4a-423068f92aef"
      },
      "execution_count": 57,
      "outputs": [
        {
          "output_type": "execute_result",
          "data": {
            "text/plain": [
              "'G'"
            ],
            "application/vnd.google.colaboratory.intrinsic+json": {
              "type": "string"
            }
          },
          "metadata": {},
          "execution_count": 57
        }
      ]
    },
    {
      "cell_type": "code",
      "source": [
        "!pip3 install pretty_midi\n",
        "!pip3 install mido"
      ],
      "metadata": {
        "id": "KPcjnxkvqBkv"
      },
      "execution_count": null,
      "outputs": []
    },
    {
      "cell_type": "code",
      "source": [
        "import mido\n",
        "import pretty_midi\n",
        "from music21 import chord, pitch\n",
        "\n",
        "def chords_format(listOfChords):\n",
        "    chords = []\n",
        "    for chord_obj in listOfChords:\n",
        "        chord_symbol = chord_obj.pitchedCommonName  # Пример: 'C major triad', 'A minor triad'\n",
        "\n",
        "        # Преобразуем в более простой формат\n",
        "        if 'major' in chord_symbol:\n",
        "            chord_name = chord_obj.root().name + \"\"\n",
        "        elif 'minor' in chord_symbol:\n",
        "            chord_name = chord_obj.root().name + \"m\"\n",
        "\n",
        "        chords.append(chord_name)\n",
        "\n",
        "    return chords\n",
        "\n",
        "def midi_to_chords(midi_file_path):\n",
        "    # Загрузка MIDI-файла\n",
        "    midi_data = pretty_midi.PrettyMIDI(midi_file_path)\n",
        "\n",
        "    # Инициализация списка для аккордов\n",
        "    chords = []\n",
        "\n",
        "    # Перебираем все инструменты в MIDI-файле (обычно мелодии на инструменте Piano)\n",
        "    for instrument in midi_data.instruments:\n",
        "        if not instrument.is_drum:  # Пропускаем ударные\n",
        "            # Группируем ноты в аккорды по времени начала\n",
        "            notes_by_start = {}\n",
        "            for note in instrument.notes:\n",
        "                start_time = round(note.start, 2)  # Округляем время до 2 знаков для удобства\n",
        "                if start_time not in notes_by_start:\n",
        "                    notes_by_start[start_time] = []\n",
        "                notes_by_start[start_time].append(note)\n",
        "\n",
        "            # Определяем аккорд по набору нот\n",
        "            for start_time, notes in notes_by_start.items():\n",
        "                # Извлекаем высоты нот\n",
        "                pitches = [note.pitch for note in notes]\n",
        "\n",
        "                # Преобразуем в объекты pitch для анализа аккорда\n",
        "                chord_notes = [pitch.Pitch(midi) for midi in pitches]\n",
        "\n",
        "                # Анализируем аккорд и добавляем в список\n",
        "                chord_symbol = chord.Chord(chord_notes)\n",
        "                chords.append(chord_symbol)\n",
        "\n",
        "    return chords\n",
        "\n",
        "midi_file_path = 'fifth.mid'\n",
        "chord_sequence = midi_to_chords(midi_file_path)\n",
        "chords_formated = chords_format(chord_sequence)\n",
        "print(chords_formated)"
      ],
      "metadata": {
        "id": "Me-RWS5PHoCd",
        "colab": {
          "base_uri": "https://localhost:8080/"
        },
        "outputId": "6a251933-eeaa-433e-a774-829f75e96e51"
      },
      "execution_count": 66,
      "outputs": [
        {
          "output_type": "stream",
          "name": "stdout",
          "text": [
            "['Am', 'F', 'C', 'G', 'Am', 'F', 'C', 'G', 'G', 'Bm', 'D', 'Em', 'G', 'D', 'A', 'G']\n"
          ]
        }
      ]
    },
    {
      "cell_type": "code",
      "source": [
        "# Определим тональность по списку аккордов\n",
        "# ВНИМАНИЕ: метод очень наивный, но используемый для простых композиций\n",
        "from collections import Counter\n",
        "\n",
        "\n",
        "def detect_key(chords):\n",
        "    key_matches = Counter()\n",
        "\n",
        "    for key in list(G.nodes())[:12]:\n",
        "        matches = sum(1 for chord in chords if chord in list(dict(G[key]).keys()))\n",
        "        key_matches[key] += matches\n",
        "\n",
        "    # Находим тональность с наибольшим количеством совпадений\n",
        "    most_likely_key = key_matches.most_common(1)[0]\n",
        "    return most_likely_key\n",
        "\n",
        "detect_key(chords_formated)"
      ],
      "metadata": {
        "id": "hwJOFM9MwPJv",
        "colab": {
          "base_uri": "https://localhost:8080/"
        },
        "outputId": "37a9fa35-5e4b-4064-cc63-f64ad039b1f5"
      },
      "execution_count": 83,
      "outputs": [
        {
          "output_type": "execute_result",
          "data": {
            "text/plain": [
              "('G', 13)"
            ]
          },
          "metadata": {},
          "execution_count": 83
        }
      ]
    }
  ]
}